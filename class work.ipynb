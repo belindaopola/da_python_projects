{
 "cells": [
  {
   "cell_type": "code",
   "execution_count": null,
   "id": "fbbbc158",
   "metadata": {},
   "outputs": [],
   "source": [
    "(){}[]"
   ]
  },
  {
   "cell_type": "code",
   "execution_count": 18,
   "id": "bc9519b0",
   "metadata": {},
   "outputs": [
    {
     "name": "stdout",
     "output_type": "stream",
     "text": [
      "2\n"
     ]
    }
   ],
   "source": [
    "#Write a Python program to get the largest number from a list\n",
    "def max_num_in_list (list):\n",
    "    max = list[0]\n",
    "    for a in list:\n",
    "        if a > max:\n",
    "            max = a \n",
    "    return max\n",
    "print(max_num_in_list([1,2,-4,0]))\n",
    "            "
   ]
  },
  {
   "cell_type": "code",
   "execution_count": null,
   "id": "1b411347",
   "metadata": {},
   "outputs": [],
   "source": []
  },
  {
   "cell_type": "code",
   "execution_count": 19,
   "id": "ac10fc71",
   "metadata": {},
   "outputs": [
    {
     "name": "stdout",
     "output_type": "stream",
     "text": [
      "1000\n"
     ]
    }
   ],
   "source": [
    "# print the maximum number from the list\n",
    "heights = [100, 2, 300, 10, 11, 1000]\n",
    "max_height = max(heights)\n",
    "print(max_height)"
   ]
  },
  {
   "cell_type": "code",
   "execution_count": 16,
   "id": "f9ddbb20",
   "metadata": {},
   "outputs": [
    {
     "name": "stdout",
     "output_type": "stream",
     "text": [
      "-4\n"
     ]
    }
   ],
   "source": [
    "#Write a Python program to get the smallest number from a list\n",
    "def min_num_in_list (list):\n",
    "    min = list[0]\n",
    "    for a in list:\n",
    "        if a < min:\n",
    "            min = a \n",
    "    return min\n",
    "print(min_num_in_list([1,2,-4,0]))\n",
    "\n"
   ]
  },
  {
   "cell_type": "code",
   "execution_count": 21,
   "id": "912d55e9",
   "metadata": {},
   "outputs": [
    {
     "name": "stdout",
     "output_type": "stream",
     "text": [
      "{0: 10, 1: 20}\n",
      "{0: 10, 1: 20, 2: 30}\n"
     ]
    }
   ],
   "source": [
    "#Write a Python script to add a key to a dictionary\n",
    "d = {0:10, 1:20}\n",
    "print(d)\n",
    "d.update({2:30})\n",
    "print(d)"
   ]
  },
  {
   "cell_type": "code",
   "execution_count": 24,
   "id": "dbfd9b4b",
   "metadata": {},
   "outputs": [
    {
     "name": "stdout",
     "output_type": "stream",
     "text": [
      "{'kahn': 4, 'Ali': 2, 'luna': 6}\n",
      "{'kahn': 8, 'Ali': 2, 'luna': 9}\n"
     ]
    }
   ],
   "source": [
    "dict = {\"kahn\": 4, \"Ali\": 2, \"luna\": 6}\n",
    "print(dict)\n",
    "dict.update({\"kahn\": 8, \"luna\": 9})\n",
    "print(dict)"
   ]
  },
  {
   "cell_type": "code",
   "execution_count": 25,
   "id": "e6426fb8",
   "metadata": {},
   "outputs": [
    {
     "name": "stdout",
     "output_type": "stream",
     "text": [
      "{'a': 20, 'b': 15, 'x': 10, 'y': 30}\n"
     ]
    }
   ],
   "source": [
    "#Write a Python script to merge two Python dictionaries\n",
    "d1 = {\"a\": 20, \"b\":15}\n",
    "d2 = {\"x\": 10, \"y\": 30}\n",
    "d = d1.copy()\n",
    "d.update(d2)\n",
    "print(d)\n"
   ]
  },
  {
   "cell_type": "code",
   "execution_count": 38,
   "id": "6b8a199a",
   "metadata": {},
   "outputs": [
    {
     "data": {
      "text/plain": [
       "['Blue', 'red', 'yellow', 'pink']"
      ]
     },
     "execution_count": 38,
     "metadata": {},
     "output_type": "execute_result"
    }
   ],
   "source": [
    "colour = [\"Blue\", \"red\", \"yellow\"]\n",
    "colour.append(\"pink\")\n",
    "colour"
   ]
  },
  {
   "cell_type": "code",
   "execution_count": 39,
   "id": "94ef4b2e",
   "metadata": {},
   "outputs": [
    {
     "data": {
      "text/plain": [
       "['Blue', 'red', 'yellow', 'p', 'i', 'n', 'k']"
      ]
     },
     "execution_count": 39,
     "metadata": {},
     "output_type": "execute_result"
    }
   ],
   "source": [
    "colour = [\"Blue\", \"red\", \"yellow\"]\n",
    "colour.extend(\"pink\")\n",
    "colour"
   ]
  },
  {
   "cell_type": "code",
   "execution_count": 41,
   "id": "7deaca69",
   "metadata": {},
   "outputs": [
    {
     "name": "stdout",
     "output_type": "stream",
     "text": [
      "{'a': 100, 'b': 200, 'c': 300, 'd': 400}\n",
      "{'b': 200, 'c': 300, 'd': 400}\n"
     ]
    }
   ],
   "source": [
    "#Write a Python program to remove a key from a dictionary\n",
    "mydict = {\"a\": 100, \"b\": 200, \"c\": 300, \"d\":400}\n",
    "print(mydict)\n",
    "if \"a\"  in mydict:\n",
    "    del mydict[\"a\"]\n",
    "print(mydict)"
   ]
  },
  {
   "cell_type": "code",
   "execution_count": 45,
   "id": "45d5ec75",
   "metadata": {
    "scrolled": true
   },
   "outputs": [
    {
     "name": "stdout",
     "output_type": "stream",
     "text": [
      "[5, 10, 20, 30, 40, 50]\n",
      "(5, 10, 20, 30, 40, 50)\n"
     ]
    }
   ],
   "source": [
    "#Write a Python program to convert a list to a tuple\n",
    "listx = [5,10,20,30,40,50]\n",
    "print(listx)\n",
    "tuplex = tuple(listx)\n",
    "print(tuplex)"
   ]
  },
  {
   "cell_type": "code",
   "execution_count": null,
   "id": "bb84b5b0",
   "metadata": {},
   "outputs": [],
   "source": []
  }
 ],
 "metadata": {
  "kernelspec": {
   "display_name": "Python 3 (ipykernel)",
   "language": "python",
   "name": "python3"
  },
  "language_info": {
   "codemirror_mode": {
    "name": "ipython",
    "version": 3
   },
   "file_extension": ".py",
   "mimetype": "text/x-python",
   "name": "python",
   "nbconvert_exporter": "python",
   "pygments_lexer": "ipython3",
   "version": "3.9.12"
  }
 },
 "nbformat": 4,
 "nbformat_minor": 5
}
